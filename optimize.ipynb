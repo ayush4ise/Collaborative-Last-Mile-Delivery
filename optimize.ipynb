{
 "cells": [
  {
   "cell_type": "markdown",
   "metadata": {},
   "source": [
    "## MILP Approach for Small Instances"
   ]
  },
  {
   "cell_type": "markdown",
   "metadata": {},
   "source": [
    "fixed cost first echelon vehicles - 100  \n",
    "fixed cost second echelon vehicles - 50"
   ]
  },
  {
   "cell_type": "code",
   "execution_count": null,
   "metadata": {},
   "outputs": [],
   "source": []
  },
  {
   "cell_type": "code",
   "execution_count": null,
   "metadata": {},
   "outputs": [],
   "source": [
    "# Optimize the model\n",
    "model.optimize()\n",
    "\n",
    "# Output the results\n",
    "if model.status == GRB.OPTIMAL:\n",
    "    print(\"Optimal solution found.\")\n",
    "    for var in model.getVars():\n",
    "        print(f\"{var.varName}: {var.x}\")\n",
    "else:\n",
    "    print(f\"Optimization ended with status {model.status}.\")"
   ]
  }
 ],
 "metadata": {
  "language_info": {
   "name": "python"
  }
 },
 "nbformat": 4,
 "nbformat_minor": 2
}
