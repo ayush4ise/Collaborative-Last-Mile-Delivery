{
 "cells": [
  {
   "cell_type": "code",
   "execution_count": 1,
   "metadata": {},
   "outputs": [],
   "source": [
    "from larger_instances import *\n",
    "\n",
    "input_path = 'Data\\Instances\\Large_Instances.xlsx'\n",
    "instance = 'B1'"
   ]
  },
  {
   "cell_type": "code",
   "execution_count": 2,
   "metadata": {},
   "outputs": [],
   "source": [
    "customers, depots, satellites, collaboration_points = InputFetcher(input_path, instance)\n",
    "\n",
    "vehicles = VehicleDict(satellites, instance=instance)"
   ]
  },
  {
   "cell_type": "code",
   "execution_count": 3,
   "metadata": {},
   "outputs": [
    {
     "data": {
      "text/plain": [
       "{7: {'x': 45.88829155095134, 'y': 34.66629416373203, 'demand': 10, 'lsp': 1.0},\n",
       " 8: {'x': 31.53743631362057, 'y': 39.57003567688655, 'demand': 10, 'lsp': 2.0},\n",
       " 9: {'x': 28.22240158796719, 'y': 32.77348758894306, 'demand': 10, 'lsp': 1.0},\n",
       " 10: {'x': 33.97454801807707,\n",
       "  'y': 35.86032199225494,\n",
       "  'demand': 10,\n",
       "  'lsp': 2.0},\n",
       " 11: {'x': 44.81562907327437,\n",
       "  'y': 27.95544882481084,\n",
       "  'demand': 10,\n",
       "  'lsp': 1.0},\n",
       " 12: {'x': 33.14595080867211, 'y': 12.6343196568895, 'demand': 10, 'lsp': 2.0},\n",
       " 13: {'x': 23.76113062808669,\n",
       "  'y': 30.51419550154245,\n",
       "  'demand': 10,\n",
       "  'lsp': 1.0},\n",
       " 14: {'x': 32.98232604301873,\n",
       "  'y': 48.46738659073952,\n",
       "  'demand': 10,\n",
       "  'lsp': 2.0},\n",
       " 15: {'x': 44.95672945626828,\n",
       "  'y': 23.64844993572046,\n",
       "  'demand': 10,\n",
       "  'lsp': 1.0},\n",
       " 16: {'x': 19.82477031847436,\n",
       "  'y': 21.89642009958293,\n",
       "  'demand': 10,\n",
       "  'lsp': 2.0},\n",
       " 17: {'x': 34.66974208784789,\n",
       "  'y': 24.78315930070959,\n",
       "  'demand': 10,\n",
       "  'lsp': 1.0},\n",
       " 18: {'x': 37.66652717629993,\n",
       "  'y': 38.28858179129533,\n",
       "  'demand': 10,\n",
       "  'lsp': 2.0},\n",
       " 19: {'x': 31.50759985757585,\n",
       "  'y': 22.49696991100695,\n",
       "  'demand': 10,\n",
       "  'lsp': 1.0},\n",
       " 20: {'x': 22.16788903064911,\n",
       "  'y': 27.64268363102461,\n",
       "  'demand': 10,\n",
       "  'lsp': 2.0},\n",
       " 21: {'x': 41.23502609692192,\n",
       "  'y': 13.65938596891804,\n",
       "  'demand': 10,\n",
       "  'lsp': 1.0},\n",
       " 22: {'x': 22.65837198267138,\n",
       "  'y': 23.57065827216944,\n",
       "  'demand': 10,\n",
       "  'lsp': 2.0},\n",
       " 23: {'x': 27.09984517880925,\n",
       "  'y': 41.22116167752722,\n",
       "  'demand': 10,\n",
       "  'lsp': 1.0},\n",
       " 24: {'x': 40.51184932927578,\n",
       "  'y': 23.97176002388119,\n",
       "  'demand': 10,\n",
       "  'lsp': 2.0},\n",
       " 25: {'x': 26.79469085190764,\n",
       "  'y': 25.46507152601756,\n",
       "  'demand': 10,\n",
       "  'lsp': 1.0},\n",
       " 26: {'x': 32.62329687639233,\n",
       "  'y': 30.89526107249165,\n",
       "  'demand': 10,\n",
       "  'lsp': 2.0},\n",
       " 27: {'x': 36.02587380790052,\n",
       "  'y': 43.08710749691104,\n",
       "  'demand': 10,\n",
       "  'lsp': 1.0},\n",
       " 28: {'x': 32.743522928514, 'y': 19.15755267670611, 'demand': 10, 'lsp': 2.0},\n",
       " 29: {'x': 43.88632886262447,\n",
       "  'y': 41.53644773209304,\n",
       "  'demand': 10,\n",
       "  'lsp': 1.0},\n",
       " 30: {'x': 23.19952762395271,\n",
       "  'y': 13.46051924069448,\n",
       "  'demand': 10,\n",
       "  'lsp': 2.0}}"
      ]
     },
     "execution_count": 3,
     "metadata": {},
     "output_type": "execute_result"
    }
   ],
   "source": [
    "customers"
   ]
  },
  {
   "cell_type": "code",
   "execution_count": 4,
   "metadata": {},
   "outputs": [
    {
     "data": {
      "text/plain": [
       "{1: {'x': 14.34102208391791, 'y': 10.22139563309806, 'lsp': 1.0},\n",
       " 2: {'x': 49.28127216457916, 'y': 40.16131856417719, 'lsp': 2.0}}"
      ]
     },
     "execution_count": 4,
     "metadata": {},
     "output_type": "execute_result"
    }
   ],
   "source": [
    "depots"
   ]
  },
  {
   "cell_type": "code",
   "execution_count": 5,
   "metadata": {},
   "outputs": [
    {
     "data": {
      "text/plain": [
       "{3: {'x': 14.53205909800563, 'y': 18.24183946007634, 'lsp': 1.0},\n",
       " 4: {'x': 40.26458, 'y': 30.524851, 'lsp': 2.0},\n",
       " 5: {'x': 15.86850429645852, 'y': 37.1593696531963, 'lsp': 1.0},\n",
       " 6: {'x': 29.40418426512856, 'y': 48.32279623916652, 'lsp': 2.0}}"
      ]
     },
     "execution_count": 5,
     "metadata": {},
     "output_type": "execute_result"
    }
   ],
   "source": [
    "satellites"
   ]
  },
  {
   "cell_type": "code",
   "execution_count": 6,
   "metadata": {},
   "outputs": [
    {
     "data": {
      "text/plain": [
       "{31: {'x': 30.24564, 'y': 25.315621}, 32: {'x': 25.45264, 'y': 40.2346}}"
      ]
     },
     "execution_count": 6,
     "metadata": {},
     "output_type": "execute_result"
    }
   ],
   "source": [
    "collaboration_points"
   ]
  },
  {
   "cell_type": "code",
   "execution_count": 7,
   "metadata": {},
   "outputs": [
    {
     "data": {
      "text/plain": [
       "{(3, 1): {'capacity': 30, 'satellite': 3, 'lsp': 1.0},\n",
       " (3, 2): {'capacity': 30, 'satellite': 3, 'lsp': 1.0},\n",
       " (4, 1): {'capacity': 30, 'satellite': 4, 'lsp': 2.0},\n",
       " (4, 2): {'capacity': 30, 'satellite': 4, 'lsp': 2.0},\n",
       " (5, 1): {'capacity': 30, 'satellite': 5, 'lsp': 1.0},\n",
       " (5, 2): {'capacity': 30, 'satellite': 5, 'lsp': 1.0},\n",
       " (6, 1): {'capacity': 30, 'satellite': 6, 'lsp': 2.0},\n",
       " (6, 2): {'capacity': 30, 'satellite': 6, 'lsp': 2.0}}"
      ]
     },
     "execution_count": 7,
     "metadata": {},
     "output_type": "execute_result"
    }
   ],
   "source": [
    "vehicles"
   ]
  },
  {
   "cell_type": "code",
   "execution_count": 8,
   "metadata": {},
   "outputs": [],
   "source": [
    "customers, satellites = algorithm1(satellites, customers)"
   ]
  },
  {
   "cell_type": "code",
   "execution_count": 9,
   "metadata": {},
   "outputs": [
    {
     "name": "stdout",
     "output_type": "stream",
     "text": [
      "Customers:  {7: {'x': 45.88829155095134, 'y': 34.66629416373203, 'demand': 10, 'lsp': 1.0, 'origin_satellite': 5}, 8: {'x': 31.53743631362057, 'y': 39.57003567688655, 'demand': 10, 'lsp': 2.0, 'origin_satellite': 6}, 9: {'x': 28.22240158796719, 'y': 32.77348758894306, 'demand': 10, 'lsp': 1.0, 'origin_satellite': 5}, 10: {'x': 33.97454801807707, 'y': 35.86032199225494, 'demand': 10, 'lsp': 2.0, 'origin_satellite': 6}, 11: {'x': 44.81562907327437, 'y': 27.95544882481084, 'demand': 10, 'lsp': 1.0, 'origin_satellite': 5}, 12: {'x': 33.14595080867211, 'y': 12.6343196568895, 'demand': 10, 'lsp': 2.0, 'origin_satellite': 4}, 13: {'x': 23.76113062808669, 'y': 30.51419550154245, 'demand': 10, 'lsp': 1.0, 'origin_satellite': 5}, 14: {'x': 32.98232604301873, 'y': 48.46738659073952, 'demand': 10, 'lsp': 2.0, 'origin_satellite': 6}, 15: {'x': 44.95672945626828, 'y': 23.64844993572046, 'demand': 10, 'lsp': 1.0, 'origin_satellite': 3}, 16: {'x': 19.82477031847436, 'y': 21.89642009958293, 'demand': 10, 'lsp': 2.0, 'origin_satellite': 6}, 17: {'x': 34.66974208784789, 'y': 24.78315930070959, 'demand': 10, 'lsp': 1.0, 'origin_satellite': 3}, 18: {'x': 37.66652717629993, 'y': 38.28858179129533, 'demand': 10, 'lsp': 2.0, 'origin_satellite': 6}, 19: {'x': 31.50759985757585, 'y': 22.49696991100695, 'demand': 10, 'lsp': 1.0, 'origin_satellite': 3}, 20: {'x': 22.16788903064911, 'y': 27.64268363102461, 'demand': 10, 'lsp': 2.0, 'origin_satellite': 6}, 21: {'x': 41.23502609692192, 'y': 13.65938596891804, 'demand': 10, 'lsp': 1.0, 'origin_satellite': 3}, 22: {'x': 22.65837198267138, 'y': 23.57065827216944, 'demand': 10, 'lsp': 2.0, 'origin_satellite': 4}, 23: {'x': 27.09984517880925, 'y': 41.22116167752722, 'demand': 10, 'lsp': 1.0, 'origin_satellite': 3}, 24: {'x': 40.51184932927578, 'y': 23.97176002388119, 'demand': 10, 'lsp': 2.0, 'origin_satellite': 4}, 25: {'x': 26.79469085190764, 'y': 25.46507152601756, 'demand': 10, 'lsp': 1.0, 'origin_satellite': 3}, 26: {'x': 32.62329687639233, 'y': 30.89526107249165, 'demand': 10, 'lsp': 2.0, 'origin_satellite': 4}, 27: {'x': 36.02587380790052, 'y': 43.08710749691104, 'demand': 10, 'lsp': 1.0, 'origin_satellite': 5}, 28: {'x': 32.743522928514, 'y': 19.15755267670611, 'demand': 10, 'lsp': 2.0, 'origin_satellite': 4}, 29: {'x': 43.88632886262447, 'y': 41.53644773209304, 'demand': 10, 'lsp': 1.0, 'origin_satellite': 5}, 30: {'x': 23.19952762395271, 'y': 13.46051924069448, 'demand': 10, 'lsp': 2.0, 'origin_satellite': 4}}\n",
      "Satellites:  {3: {'x': 14.53205909800563, 'y': 18.24183946007634, 'lsp': 1.0, 'origin_customers': [15, 17, 19, 21, 25, 23]}, 4: {'x': 40.26458, 'y': 30.524851, 'lsp': 2.0, 'origin_customers': [12, 22, 24, 26, 28, 30]}, 5: {'x': 15.86850429645852, 'y': 37.1593696531963, 'lsp': 1.0, 'origin_customers': [7, 9, 11, 13, 27, 29]}, 6: {'x': 29.40418426512856, 'y': 48.32279623916652, 'lsp': 2.0, 'origin_customers': [8, 14, 20, 18, 10, 16]}}\n"
     ]
    }
   ],
   "source": [
    "print('Customers: ', customers)\n",
    "print('Satellites: ', satellites)"
   ]
  },
  {
   "cell_type": "code",
   "execution_count": 10,
   "metadata": {},
   "outputs": [],
   "source": [
    "customers, satellites, satellite_pairs = algorithm2(satellites, customers, collaboration_points)"
   ]
  },
  {
   "cell_type": "code",
   "execution_count": 11,
   "metadata": {},
   "outputs": [
    {
     "name": "stdout",
     "output_type": "stream",
     "text": [
      "Customers:  {7: {'x': 45.88829155095134, 'y': 34.66629416373203, 'demand': 10, 'lsp': 1.0, 'origin_satellite': 5, 'clustered_satellite': 6, 'collaboration_point': 32}, 8: {'x': 31.53743631362057, 'y': 39.57003567688655, 'demand': 10, 'lsp': 2.0, 'origin_satellite': 6, 'clustered_satellite': 6, 'collaboration_point': 32}, 9: {'x': 28.22240158796719, 'y': 32.77348758894306, 'demand': 10, 'lsp': 1.0, 'origin_satellite': 5, 'clustered_satellite': 5, 'collaboration_point': 32}, 10: {'x': 33.97454801807707, 'y': 35.86032199225494, 'demand': 10, 'lsp': 2.0, 'origin_satellite': 6, 'clustered_satellite': 6, 'collaboration_point': 32}, 11: {'x': 44.81562907327437, 'y': 27.95544882481084, 'demand': 10, 'lsp': 1.0, 'origin_satellite': 5, 'clustered_satellite': 6, 'collaboration_point': 32}, 12: {'x': 33.14595080867211, 'y': 12.6343196568895, 'demand': 10, 'lsp': 2.0, 'origin_satellite': 4, 'clustered_satellite': 4, 'collaboration_point': 31}, 13: {'x': 23.76113062808669, 'y': 30.51419550154245, 'demand': 10, 'lsp': 1.0, 'origin_satellite': 5, 'clustered_satellite': 5, 'collaboration_point': 32}, 14: {'x': 32.98232604301873, 'y': 48.46738659073952, 'demand': 10, 'lsp': 2.0, 'origin_satellite': 6, 'clustered_satellite': 6, 'collaboration_point': 32}, 15: {'x': 44.95672945626828, 'y': 23.64844993572046, 'demand': 10, 'lsp': 1.0, 'origin_satellite': 3, 'clustered_satellite': 4, 'collaboration_point': 31}, 16: {'x': 19.82477031847436, 'y': 21.89642009958293, 'demand': 10, 'lsp': 2.0, 'origin_satellite': 6, 'clustered_satellite': 5, 'collaboration_point': 32}, 17: {'x': 34.66974208784789, 'y': 24.78315930070959, 'demand': 10, 'lsp': 1.0, 'origin_satellite': 3, 'clustered_satellite': 4, 'collaboration_point': 31}, 18: {'x': 37.66652717629993, 'y': 38.28858179129533, 'demand': 10, 'lsp': 2.0, 'origin_satellite': 6, 'clustered_satellite': 6, 'collaboration_point': 32}, 19: {'x': 31.50759985757585, 'y': 22.49696991100695, 'demand': 10, 'lsp': 1.0, 'origin_satellite': 3, 'clustered_satellite': 4, 'collaboration_point': 31}, 20: {'x': 22.16788903064911, 'y': 27.64268363102461, 'demand': 10, 'lsp': 2.0, 'origin_satellite': 6, 'clustered_satellite': 5, 'collaboration_point': 32}, 21: {'x': 41.23502609692192, 'y': 13.65938596891804, 'demand': 10, 'lsp': 1.0, 'origin_satellite': 3, 'clustered_satellite': 4, 'collaboration_point': 31}, 22: {'x': 22.65837198267138, 'y': 23.57065827216944, 'demand': 10, 'lsp': 2.0, 'origin_satellite': 4, 'clustered_satellite': 3, 'collaboration_point': 31}, 23: {'x': 27.09984517880925, 'y': 41.22116167752722, 'demand': 10, 'lsp': 1.0, 'origin_satellite': 3, 'clustered_satellite': 4, 'collaboration_point': 31}, 24: {'x': 40.51184932927578, 'y': 23.97176002388119, 'demand': 10, 'lsp': 2.0, 'origin_satellite': 4, 'clustered_satellite': 4, 'collaboration_point': 31}, 25: {'x': 26.79469085190764, 'y': 25.46507152601756, 'demand': 10, 'lsp': 1.0, 'origin_satellite': 3, 'clustered_satellite': 3, 'collaboration_point': 31}, 26: {'x': 32.62329687639233, 'y': 30.89526107249165, 'demand': 10, 'lsp': 2.0, 'origin_satellite': 4, 'clustered_satellite': 4, 'collaboration_point': 31}, 27: {'x': 36.02587380790052, 'y': 43.08710749691104, 'demand': 10, 'lsp': 1.0, 'origin_satellite': 5, 'clustered_satellite': 6, 'collaboration_point': 32}, 28: {'x': 32.743522928514, 'y': 19.15755267670611, 'demand': 10, 'lsp': 2.0, 'origin_satellite': 4, 'clustered_satellite': 4, 'collaboration_point': 31}, 29: {'x': 43.88632886262447, 'y': 41.53644773209304, 'demand': 10, 'lsp': 1.0, 'origin_satellite': 5, 'clustered_satellite': 6, 'collaboration_point': 32}, 30: {'x': 23.19952762395271, 'y': 13.46051924069448, 'demand': 10, 'lsp': 2.0, 'origin_satellite': 4, 'clustered_satellite': 3, 'collaboration_point': 31}}\n",
      "Satellites:  {3: {'x': 14.53205909800563, 'y': 18.24183946007634, 'lsp': 1.0, 'origin_customers': [15, 17, 19, 21, 25, 23], 'collaboration_point': 31}, 4: {'x': 40.26458, 'y': 30.524851, 'lsp': 2.0, 'origin_customers': [12, 22, 24, 26, 28, 30], 'collaboration_point': 31}, 5: {'x': 15.86850429645852, 'y': 37.1593696531963, 'lsp': 1.0, 'origin_customers': [7, 9, 11, 13, 27, 29], 'collaboration_point': 32}, 6: {'x': 29.40418426512856, 'y': 48.32279623916652, 'lsp': 2.0, 'origin_customers': [8, 14, 20, 18, 10, 16], 'collaboration_point': 32}}\n"
     ]
    }
   ],
   "source": [
    "print('Customers: ', customers)\n",
    "print('Satellites: ', satellites)\n",
    "print('Satellite pairs: ', satellite_pairs)"
   ]
  }
 ],
 "metadata": {
  "kernelspec": {
   "display_name": "Python 3",
   "language": "python",
   "name": "python3"
  },
  "language_info": {
   "codemirror_mode": {
    "name": "ipython",
    "version": 3
   },
   "file_extension": ".py",
   "mimetype": "text/x-python",
   "name": "python",
   "nbconvert_exporter": "python",
   "pygments_lexer": "ipython3",
   "version": "3.11.0"
  }
 },
 "nbformat": 4,
 "nbformat_minor": 2
}
